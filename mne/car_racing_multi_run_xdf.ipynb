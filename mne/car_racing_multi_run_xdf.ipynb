{
 "cells": [
  {
   "attachments": {},
   "cell_type": "markdown",
   "metadata": {},
   "source": [
    "# Working with XDF data using MNE\n",
    "The goal of this notebook is to import data saved using the LSL Lab Recorder, and run through some pre-processing steps using [MNE-Python](https://mne.tools/stable/index.html)!"
   ]
  },
  {
   "cell_type": "code",
   "execution_count": null,
   "metadata": {},
   "outputs": [],
   "source": [
    "import mne\n",
    "import matplotlib.pyplot as plt\n",
    "import pyxdf\n",
    "import numpy as np\n",
    "from glob import glob"
   ]
  },
  {
   "attachments": {},
   "cell_type": "markdown",
   "metadata": {},
   "source": [
    "## Path to dataset"
   ]
  },
  {
   "cell_type": "code",
   "execution_count": null,
   "metadata": {},
   "outputs": [],
   "source": [
    "SUBJECT = 'ruomin'\n",
    "DATA_PATH = f'/Users/shashankbansal/UCSD/Research/Telluride23/EEG-data/car_racing_error/sub-{SUBJECT}/'\n",
    "XDF_FILES = glob(DATA_PATH + '**/*/*.xdf')\n",
    "XDF_FILES = sorted(XDF_FILES) # to sort by run#\n",
    "XDF_FILES"
   ]
  },
  {
   "cell_type": "code",
   "execution_count": null,
   "metadata": {},
   "outputs": [],
   "source": [
    "for s in streams:\n",
    "    print(s['info']['name'], s['info']['type'])\n",
    "    \n",
    "    \n"
   ]
  },
  {
   "cell_type": "code",
   "execution_count": null,
   "metadata": {
    "scrolled": false
   },
   "outputs": [],
   "source": [
    "ALL_EEG = []\n",
    "ALL_Z = []\n",
    "ALL_KEYS = []\n",
    "ALL_GAME_EVENTS = []\n",
    "\n",
    "# Load each XDF file for a given subject\n",
    "for XDF in XDF_FILES:\n",
    "    streams, header = pyxdf.load_xdf(XDF)\n",
    "    \n",
    "    # Get the first time stamp across all streams (read from time_stamps)\n",
    "    first_timestamps = []\n",
    "\n",
    "    for s in streams: # loop through remaining streams\n",
    "        s_name = s['info']['name']\n",
    "        t0 = s['time_stamps'][0]\n",
    "        print(t0, '\\t', s_name)\n",
    "\n",
    "        first_timestamps.append(t0)\n",
    "\n",
    "    first_timestamp = min(first_timestamps)\n",
    "    print(first_timestamp, '\\t', '<== earliest') \n",
    "    \n",
    "    # Identify EEG data and impedance streams\n",
    "    for s in streams:\n",
    "        s_name = s['info']['name'][0]\n",
    "        s_type = s['info']['type'][0]\n",
    "        print(f'Stream Name: {s_name}\\tType: {s_type}')\n",
    "\n",
    "        # Get the EEG data stream for CGX\n",
    "        if ('CGX' in s_name) and (s_type == 'EEG'):\n",
    "            eeg_data = s['time_series']\n",
    "            eeg_t = s['time_stamps'] - first_timestamp # offset first time stamp to t=0\n",
    "            eeg_ch_names = [ch['label'][0] for ch in s['info']['desc'][0]['channels'][0]['channel']]\n",
    "            eeg_ch_units = [ch['unit'][0] for ch in s['info']['desc'][0]['channels'][0]['channel']]\n",
    "            eeg_sfreq = s['info']['effective_srate']\n",
    "            #print(f'Channels: {eeg_ch_names}')\n",
    "            #print(f'Unit: {eeg_ch_units}')\n",
    "            print(f'Eff. Sampling Rate: {eeg_sfreq} Hz')\n",
    "            print(eeg_data.shape)\n",
    "            \n",
    "            # Rescale to V for importing into MNE\n",
    "            if 'microvolts' in eeg_ch_units:\n",
    "                eeg_data /= 1e6\n",
    "                   \n",
    "            ALL_EEG.append(eeg_data)\n",
    "\n",
    "        # Get the impedance data stream for CGX\n",
    "        elif ('CGX' in s_name) and (s_type == 'Impeadance'): # typo in the stream name?\n",
    "            z_data = s['time_series']\n",
    "            z_t = s['time_stamps'] - first_timestamp\n",
    "            z_ch_names = [ch['label'][0] for ch in s['info']['desc'][0]['channels'][0]['channel']]\n",
    "            z_ch_units = [ch['unit'][0] for ch in s['info']['desc'][0]['channels'][0]['channel']]\n",
    "            z_sfreq = s['info']['effective_srate']\n",
    "            #print(f'Channels: {z_ch_names}')\n",
    "            #print(f'Unit: {z_ch_units}')\n",
    "            print(f'Eff. Sampling Rate: {z_sfreq} Hz')\n",
    "            \n",
    "            \n",
    "            ALL_Z.append(z_data)\n",
    "\n",
    "        # Keyboard events\n",
    "        elif (s_type == 'Markers'):\n",
    "            events = s['time_series']\n",
    "            events_t = s['time_stamps'] - first_timestamp\n",
    "    \n",
    "            ALL_KEYS.append((events_t, events))\n",
    "            \n",
    "        elif (s_type == 'Gaming'):\n",
    "            events = s['time_series']\n",
    "            events_t = s['time_stamps'] - first_timestamp\n",
    "    \n",
    "            ALL_GAME_EVENTS.append((events_t, events))\n",
    "    \n",
    "    # Plot EEG data\n",
    "    fig, ax = plt.subplots(2, 1)\n",
    "\n",
    "    ax[0].plot(eeg_t, eeg_data)\n",
    "    ax[0].set_ylabel('uV')\n",
    "    ax[0].set_xlabel('Time Stamps [s]')\n",
    "    ax[0].set_title('EEG data')\n",
    "\n",
    "    # Plot event markers\n",
    "    for i in range(len(events)):\n",
    "        event_t = events_t[i]\n",
    "        event_v = events[i][0]\n",
    "        event_type = events[i][1]\n",
    "\n",
    "        if event_type == 'left':\n",
    "            ax[0].axvline(x = event_t, c='pink')\n",
    "        elif event_type == 'right':\n",
    "            ax[0].axvline(x = event_t, c='c')\n",
    "        elif event_type == 'enter':\n",
    "            ax[0].axvline(x = event_t, c='r')\n",
    "\n",
    "    ax[1].plot(z_t, z_data)\n",
    "    ax[1].set_ylabel('kOhms')\n",
    "    ax[1].set_title('Impedance')\n",
    "\n",
    "    plt.tight_layout()\n",
    "\n",
    "plt.show()"
   ]
  },
  {
   "cell_type": "code",
   "execution_count": null,
   "metadata": {},
   "outputs": [],
   "source": [
    "ALL_KEYS[0]\n",
    "ALL_GAME_EVENTS"
   ]
  },
  {
   "cell_type": "code",
   "execution_count": null,
   "metadata": {},
   "outputs": [],
   "source": [
    "print(len(ALL_EEG), len(ALL_Z), len(ALL_KEYS), len(ALL_GAME_EVENTS))"
   ]
  },
  {
   "attachments": {},
   "cell_type": "markdown",
   "metadata": {},
   "source": [
    "# Stitch all the datasets together\n",
    "(skip for now)"
   ]
  },
  {
   "cell_type": "code",
   "execution_count": null,
   "metadata": {},
   "outputs": [],
   "source": [
    "if 0:\n",
    "    eeg_stacked = np.vstack(ALL_EEG)\n",
    "    z_stacked = np.vstack(ALL_EEG)\n",
    "    lsl_stacked = np.vstack(ALL_EEG)"
   ]
  },
  {
   "attachments": {},
   "cell_type": "markdown",
   "metadata": {},
   "source": [
    "# Prepare to import data to mne"
   ]
  },
  {
   "cell_type": "code",
   "execution_count": null,
   "metadata": {
    "scrolled": false
   },
   "outputs": [],
   "source": [
    "# Just use the last run's channel names, since the setup is the same across runs\n",
    "ch_names = eeg_ch_names + z_ch_names\n",
    "ch_names"
   ]
  },
  {
   "attachments": {},
   "cell_type": "markdown",
   "metadata": {},
   "source": [
    "(Manually) Identify each channel's type for importing data to mne:"
   ]
  },
  {
   "cell_type": "code",
   "execution_count": null,
   "metadata": {},
   "outputs": [],
   "source": [
    "ch_types = []\n",
    "ch_types.extend(['eeg']*(29+1)) # first 29 channels are EEG, and A2\n",
    "ch_types.extend(['misc']*(2+3+1)) # ExG x2, ACC x3, Packet Counter\n",
    "ch_types.extend(['stim']) # Trigger channel (unused)\n",
    "ch_types.extend(['misc']*(len(z_ch_names))) # all impedance channels"
   ]
  },
  {
   "attachments": {},
   "cell_type": "markdown",
   "metadata": {},
   "source": [
    "Make an info object for importing data to mne:\n",
    "\n",
    "https://mne.tools/stable/generated/mne.create_info.html"
   ]
  },
  {
   "cell_type": "code",
   "execution_count": null,
   "metadata": {},
   "outputs": [],
   "source": [
    "info = mne.create_info(\n",
    "    ch_names = ch_names,\n",
    "    sfreq = eeg_sfreq,\n",
    "    ch_types = ch_types,\n",
    ")"
   ]
  },
  {
   "attachments": {},
   "cell_type": "markdown",
   "metadata": {},
   "source": [
    "## Preprocessing on the Gaming Events\n"
   ]
  },
  {
   "cell_type": "code",
   "execution_count": null,
   "metadata": {},
   "outputs": [],
   "source": [
    "event_mapping = {\n",
    "    0: 'start',\n",
    "    1: 'error_right',\n",
    "    2: 'error_left',\n",
    "    999: 'explosion'\n",
    "}\n",
    "\n",
    "ALL_GAME_EVENTS_REMAPPED = []\n",
    "\n",
    "for i in range(len(ALL_GAME_EVENTS)):\n",
    "    new_inner_list = []\n",
    "    for triplet in ALL_GAME_EVENTS[i][1]:\n",
    "        # Convert triplet to list as it might be an immutable tuple\n",
    "        new_triplet = list(triplet)\n",
    "        if new_triplet[1] == -1:\n",
    "            new_triplet[1] = event_mapping[int(new_triplet[2])]\n",
    "        else:\n",
    "            new_triplet[1] = 'obstacle'\n",
    "        new_inner_list.append(new_triplet)\n",
    "    ALL_GAME_EVENTS_REMAPPED.append([ALL_GAME_EVENTS[i][0], new_inner_list])\n"
   ]
  },
  {
   "cell_type": "code",
   "execution_count": null,
   "metadata": {},
   "outputs": [],
   "source": [
    "print(len(ALL_GAME_EVENTS_REMAPPED))"
   ]
  },
  {
   "attachments": {},
   "cell_type": "markdown",
   "metadata": {},
   "source": [
    "Import the data as a raw array:\n",
    "\n",
    "https://mne.tools/stable/generated/mne.io.RawArray.html"
   ]
  },
  {
   "cell_type": "code",
   "execution_count": null,
   "metadata": {},
   "outputs": [],
   "source": [
    "ALL_RAWS = []\n",
    "\n",
    "for run_idx in range(len(ALL_EEG)):\n",
    "    \n",
    "    # Pull out eeg data for this run\n",
    "    eeg_data = ALL_EEG[run_idx]\n",
    "    z_data = ALL_Z[run_idx]\n",
    "    \n",
    "    # Why is there a mismatch on one run?\n",
    "    print(eeg_data.shape)\n",
    "    print(z_data.shape)\n",
    "    \n",
    "    n_eeg_samples = eeg_data.shape[0]\n",
    "    n_z_samples = z_data.shape[0]\n",
    "    n_eeg_z_samples = min(n_eeg_samples, n_z_samples)\n",
    "    eeg_z_data = np.hstack(\n",
    "        (\n",
    "            eeg_data[:n_eeg_z_samples, :], \n",
    "            z_data[:n_eeg_z_samples, :]\n",
    "        )\n",
    "    )\n",
    "    print(eeg_z_data.shape)\n",
    "    \n",
    "    # Make an MNE object\n",
    "    raw = mne.io.RawArray(\n",
    "        data = eeg_z_data.T, # mne expects (n_channels, n_times)\n",
    "        info = info,\n",
    "    )\n",
    "    \n",
    "    # Add montage\n",
    "    raw.info.set_montage('standard_1020', match_case=False)\n",
    "\n",
    "    # Get annotations from key presses\n",
    "    k_events_t, k_events = ALL_KEYS[run_idx]\n",
    "    k_ev_id = [ev[1] for ev in k_events]\n",
    "    key_annot = mne.Annotations(\n",
    "        onset = k_events_t,\n",
    "        duration = np.zeros_like(k_events_t), # setting durations to 0 to just label event onsets\n",
    "        description = k_ev_id,\n",
    "    )\n",
    "    \n",
    "    # Get annotations from game\n",
    "    g_events_t, g_events = ALL_GAME_EVENTS_REMAPPED[run_idx]\n",
    "    g_ev_id = [ev[1] for ev in g_events]\n",
    "    game_annot = mne.Annotations(\n",
    "        onset = g_events_t,\n",
    "        duration = np.zeros_like(g_events_t), # setting durations to 0 to just label event onsets\n",
    "        description = g_ev_id,\n",
    "    )\n",
    "\n",
    "    # Add all these annotations to the raw object\n",
    "    raw.set_annotations(key_annot + game_annot)\n",
    "\n",
    "    ALL_RAWS.append(raw.copy())"
   ]
  },
  {
   "cell_type": "code",
   "execution_count": null,
   "metadata": {},
   "outputs": [],
   "source": [
    "g_events_t, g_events = ALL_GAME_EVENTS_REMAPPED[1]\n",
    "g_ev_id = [ev[1] for ev in g_events]\n",
    "print(g_ev_id)"
   ]
  },
  {
   "attachments": {},
   "cell_type": "markdown",
   "metadata": {},
   "source": [
    "# Remove / label bad segments"
   ]
  },
  {
   "cell_type": "code",
   "execution_count": null,
   "metadata": {},
   "outputs": [],
   "source": [
    "# TO DO\n",
    "# crop out first 10s and last 15s from each run\n",
    "\n",
    "for i in range(len(ALL_RAWS)):\n",
    "    tmin = 10  # start time to keep\n",
    "    tmax = ALL_RAWS[i].times[-1] - 15  # end time to keep\n",
    "    ALL_RAWS[i] = ALL_RAWS[i].crop(tmin, tmax)"
   ]
  },
  {
   "cell_type": "code",
   "execution_count": null,
   "metadata": {},
   "outputs": [],
   "source": [
    "ALL_RAWS[0].plot(block=False)"
   ]
  },
  {
   "attachments": {},
   "cell_type": "markdown",
   "metadata": {},
   "source": [
    "## Merge the raw objects"
   ]
  },
  {
   "cell_type": "code",
   "execution_count": null,
   "metadata": {},
   "outputs": [],
   "source": [
    "# Remove bad segments\n",
    "raw_merged = mne.concatenate_raws(ALL_RAWS)\n",
    "print(np.unique(raw_merged.annotations.description))"
   ]
  },
  {
   "attachments": {},
   "cell_type": "markdown",
   "metadata": {},
   "source": [
    "## Visualize the 10-20 channel montage"
   ]
  },
  {
   "cell_type": "code",
   "execution_count": null,
   "metadata": {},
   "outputs": [],
   "source": [
    "# Plot the montage\n",
    "mne.viz.plot_montage(raw_merged.info.get_montage())"
   ]
  },
  {
   "attachments": {},
   "cell_type": "markdown",
   "metadata": {},
   "source": [
    "# Time Series"
   ]
  },
  {
   "cell_type": "code",
   "execution_count": null,
   "metadata": {
    "scrolled": false
   },
   "outputs": [],
   "source": [
    "# %matplotlib widget\n",
    "\n",
    "# could go back to \n",
    "# %matplotlib inline \n",
    "# if the plot doubling becomes annoying\n",
    "\n",
    "# using widget to make the plot interactive (for scrolling, bad channel selection, etc)\n",
    "\n",
    "# scaling can help with visibility, especially if we have some bad channels / artifacts\n",
    "scalings = {\n",
    "    'eeg': 100e-6,\n",
    "    'misc': 100\n",
    "} \n",
    "\n",
    "# In case you want to manually flag some channels as bad (could also click in the plot)\n",
    "bad_chans = []\n",
    "raw.info['bads'] = bad_chans\n",
    "\n",
    "PLOT_WINDOW_START_s = 0\n",
    "PLOT_WINDOW_DUR_s = 20\n",
    "\n",
    "raw_merged.plot(\n",
    "    scalings = scalings,\n",
    "    # butterfly = True,\n",
    "    start = PLOT_WINDOW_START_s,\n",
    "    duration = PLOT_WINDOW_DUR_s,\n",
    ")"
   ]
  },
  {
   "attachments": {},
   "cell_type": "markdown",
   "metadata": {},
   "source": [
    "# Manually reject bad data segments"
   ]
  },
  {
   "cell_type": "code",
   "execution_count": null,
   "metadata": {},
   "outputs": [],
   "source": [
    "# bad_annot = mne.Annotations(\n",
    "#     onset = [125, ],\n",
    "#     duration = [20, ], # setting durations to 0 to just label event onsets\n",
    "#     description = \"bad\",\n",
    "# )\n",
    "\n",
    "# #raw.set_annotations(raw.annotations + bad_annot)\n",
    "# raw.set_annotations(lsl_annot + bad_annot)"
   ]
  },
  {
   "cell_type": "code",
   "execution_count": null,
   "metadata": {},
   "outputs": [],
   "source": [
    "# Remove any erroneous annotations (if needed)\n",
    "# raw.annotations[5]\n",
    "# raw.annotations.delete(5)"
   ]
  },
  {
   "attachments": {},
   "cell_type": "markdown",
   "metadata": {},
   "source": [
    "# Power Spectra\n",
    "(before filtering)"
   ]
  },
  {
   "cell_type": "code",
   "execution_count": null,
   "metadata": {
    "scrolled": false
   },
   "outputs": [],
   "source": [
    "raw_merged.compute_psd(n_fft = 1024).plot(average = False)"
   ]
  },
  {
   "cell_type": "code",
   "execution_count": null,
   "metadata": {},
   "outputs": [],
   "source": [
    "raw = raw_merged.copy()"
   ]
  },
  {
   "attachments": {},
   "cell_type": "markdown",
   "metadata": {},
   "source": [
    "Let's filter the data:"
   ]
  },
  {
   "cell_type": "code",
   "execution_count": null,
   "metadata": {},
   "outputs": [],
   "source": [
    "# Notch filter\n",
    "raw_filt = raw.copy().notch_filter( # make a copy of the array to avoid modifying in place\n",
    "    freqs = [60, 120, 180, 240]\n",
    ")\n",
    "\n",
    "# Highpass filter\n",
    "raw_filt = raw_filt.filter( # make a copy of the array to avoid modifying in place\n",
    "    l_freq = 1, # lower cut-off, in Hz\n",
    "    h_freq = None, # upper cut-off, in Hz\n",
    ")\n",
    "\n",
    "n_fft = 1024\n",
    "\n",
    "# picks = [''] # a list of channels that you want to focus on, if any\n",
    "raw_filt.compute_psd(\n",
    "    # picks= picks,\n",
    "    # fmin = 0, # lower limit to plot\n",
    "    # fmax = 60, # upper limit to plot\n",
    "    # tmin = 0, # if only using a subset of the data for PSD computation\n",
    "    # tmax = 10,\n",
    "    n_fft = n_fft,\n",
    ").plot()"
   ]
  },
  {
   "attachments": {},
   "cell_type": "markdown",
   "metadata": {},
   "source": [
    "# Identify any bad channels"
   ]
  },
  {
   "cell_type": "code",
   "execution_count": null,
   "metadata": {
    "scrolled": false
   },
   "outputs": [],
   "source": [
    "# ## Update scalings if needed\n",
    "# scalings['eeg'] = 200e-6 \n",
    "# # scalings['eog'] = 500e-6\n",
    "# # scalings['misc'] = 100\n",
    "\n",
    "# raw_filt.info.bads = [] #'Oz', 'O1', , 'Fp2', 'F7', 'P3'] # ideally could label bad segments instead of dropping channels\n",
    "\n",
    "# # Drop bad channels from visual examination before running ICA\n",
    "# raw_filt_drop_bad = raw_filt.copy().drop_channels(raw_filt.info.bads)\n",
    "\n",
    "# raw_filt_drop_bad.plot(\n",
    "#     scalings = scalings,\n",
    "#     butterfly = True,\n",
    "#     start = PLOT_WINDOW_START_s,\n",
    "#     duration = PLOT_WINDOW_DUR_s,\n",
    "# )"
   ]
  },
  {
   "attachments": {},
   "cell_type": "markdown",
   "metadata": {},
   "source": [
    "## Re-reference to average (or just A2)\n",
    "https://mne.tools/stable/generated/mne.set_eeg_reference.html"
   ]
  },
  {
   "cell_type": "code",
   "execution_count": null,
   "metadata": {},
   "outputs": [],
   "source": [
    "# raw_filt_drop_bad_rref, _ = mne.set_eeg_reference(\n",
    "#     raw_filt_drop_bad, \n",
    "#     ref_channels=['A2'], #'average',\n",
    "# )\n",
    "\n",
    "# raw_filt_drop_bad_rref.plot(\n",
    "#     scalings=scalings,\n",
    "#     butterfly=True,\n",
    "#     start = PLOT_WINDOW_START_s,\n",
    "#     duration = PLOT_WINDOW_DUR_s,\n",
    "# )"
   ]
  },
  {
   "attachments": {},
   "cell_type": "markdown",
   "metadata": {},
   "source": [
    "# Run ICA to remove artifacts\n",
    "https://mne.tools/stable/auto_tutorials/preprocessing/40_artifact_correction_ica.html#sphx-glr-auto-tutorials-preprocessing-40-artifact-correction-ica-py"
   ]
  },
  {
   "cell_type": "code",
   "execution_count": null,
   "metadata": {},
   "outputs": [],
   "source": [
    "from mne.preprocessing import ICA\n",
    "\n",
    "# Make an ICA object\n",
    "ica = ICA(\n",
    "    #n_components = 29, # number of prinicipal components passed to ICA\n",
    "    random_state = 23, # seed for numpy RNG\n",
    "    #method = 'infomax', # can use 'fastica' or 'picard' too\n",
    ")\n",
    "\n",
    "# Run ICA\n",
    "ica.fit(raw_filt)"
   ]
  },
  {
   "attachments": {},
   "cell_type": "markdown",
   "metadata": {},
   "source": [
    "## Plot ICA components over time"
   ]
  },
  {
   "cell_type": "code",
   "execution_count": null,
   "metadata": {},
   "outputs": [],
   "source": [
    "# %matplotlib widget\n",
    "ica.plot_sources(\n",
    "    raw_filt,\n",
    "    start = PLOT_WINDOW_START_s,\n",
    "    stop = PLOT_WINDOW_START_s + PLOT_WINDOW_DUR_s,\n",
    ")"
   ]
  },
  {
   "attachments": {},
   "cell_type": "markdown",
   "metadata": {},
   "source": [
    "## Topomaps for each ICA component"
   ]
  },
  {
   "cell_type": "code",
   "execution_count": null,
   "metadata": {
    "scrolled": false
   },
   "outputs": [],
   "source": [
    "suspect_ica_components = [\n",
    "    0, # eye blinks\n",
    "    4, # pulse\n",
    "    8, # very noisy\n",
    "    11,\n",
    "]\n",
    "\n",
    "ica.plot_properties(\n",
    "    raw_filt,\n",
    "    picks = suspect_ica_components, # select ICA components to plot topomaps for\n",
    ")\n",
    "\n",
    "plt.show()"
   ]
  },
  {
   "attachments": {},
   "cell_type": "markdown",
   "metadata": {},
   "source": [
    "## Remove suspect ICA components"
   ]
  },
  {
   "cell_type": "code",
   "execution_count": null,
   "metadata": {},
   "outputs": [],
   "source": [
    "PLOT_WINDOW_START_s = 35\n",
    "PLOT_WINDOW_DUR_s = 30\n",
    "\n",
    "suspect_ica_components = [\n",
    "    0, # eye blinks\n",
    "    4, # pulse\n",
    "    8, # very noisy\n",
    "]\n",
    "\n",
    "ica.plot_overlay(\n",
    "    raw_filt,\n",
    "    exclude = suspect_ica_components,\n",
    "    \n",
    "    start = int(raw_filt.info['sfreq']) * PLOT_WINDOW_START_s, # this is index, not seconds\n",
    "    stop = int(raw_filt.info['sfreq']) * (PLOT_WINDOW_START_s + PLOT_WINDOW_DUR_s),\n",
    ")\n"
   ]
  },
  {
   "attachments": {},
   "cell_type": "markdown",
   "metadata": {},
   "source": [
    "## Project back to channel space"
   ]
  },
  {
   "cell_type": "code",
   "execution_count": null,
   "metadata": {
    "scrolled": true
   },
   "outputs": [],
   "source": [
    "raw_ica = ica.apply(\n",
    "    raw_filt, \n",
    "    exclude=suspect_ica_components, # ICA components to drop\n",
    ")"
   ]
  },
  {
   "cell_type": "code",
   "execution_count": null,
   "metadata": {},
   "outputs": [],
   "source": [
    "raw_ica.plot(\n",
    "    scalings = scalings,\n",
    "    # butterfly = True,\n",
    "    duration = PLOT_WINDOW_DUR_s,\n",
    "    start = PLOT_WINDOW_START_s,\n",
    ")"
   ]
  },
  {
   "attachments": {},
   "cell_type": "markdown",
   "metadata": {},
   "source": [
    "# Lets find events from annotations"
   ]
  },
  {
   "cell_type": "code",
   "execution_count": null,
   "metadata": {},
   "outputs": [],
   "source": [
    "events, event_id = mne.events_from_annotations(raw_ica)"
   ]
  },
  {
   "cell_type": "code",
   "execution_count": null,
   "metadata": {
    "scrolled": true
   },
   "outputs": [],
   "source": [
    "events"
   ]
  },
  {
   "cell_type": "code",
   "execution_count": null,
   "metadata": {},
   "outputs": [],
   "source": [
    "event_id"
   ]
  },
  {
   "cell_type": "code",
   "execution_count": null,
   "metadata": {
    "scrolled": false
   },
   "outputs": [],
   "source": [
    "from mne.time_frequency import tfr_morlet\n",
    "\n",
    "eps = mne.Epochs(\n",
    "    raw,\n",
    "    # raw_ica,\n",
    "    events = events, \n",
    "    event_id = event_id, \n",
    "    tmin=-0.5,\n",
    "    tmax=1.5,\n",
    "    baseline=None,\n",
    "    event_repeated='merge',\n",
    ")\n",
    "\n",
    "freqs = np.logspace(*np.log10([6, 70]), num=16)\n",
    "n_cycles = freqs / 2.0  # different number of cycle per frequency\n",
    "\n",
    "power, itc = tfr_morlet(\n",
    "    eps,\n",
    "    freqs=freqs,\n",
    "    n_cycles=n_cycles,\n",
    "    use_fft=True,\n",
    "    return_itc=True,\n",
    "    decim=3,\n",
    "    n_jobs=None,\n",
    ")"
   ]
  },
  {
   "cell_type": "code",
   "execution_count": null,
   "metadata": {},
   "outputs": [],
   "source": [
    "power.ch_names"
   ]
  },
  {
   "cell_type": "code",
   "execution_count": null,
   "metadata": {},
   "outputs": [],
   "source": [
    "channels = ['PO7', 'O1', 'Oz', 'O2', 'P4', 'T8']\n",
    "\n",
    "for channel in channels:\n",
    "    power.plot([power.ch_names.index(channel)], baseline=(-0.5, 0), mode='logratio', title=power.ch_names[power.ch_names.index(channel)])"
   ]
  },
  {
   "cell_type": "code",
   "execution_count": null,
   "metadata": {},
   "outputs": [],
   "source": [
    "power.plot_topo(baseline=(-0.5, 0), mode=\"logratio\", title=\"Average power\")\n",
    "\n",
    "# fig, axes = plt.subplots(1, 2, figsize=(7, 4), constrained_layout=True)\n",
    "\n",
    "power.plot_joint(\n",
    "    baseline=(-0.5, 0), mode=\"mean\", tmin=-0.5, tmax=2, timefreqs=[(0.25, 11), (0.5, 13), (0.75, 18), (1, 36)]\n",
    ")"
   ]
  },
  {
   "cell_type": "code",
   "execution_count": null,
   "metadata": {},
   "outputs": [],
   "source": [
    "eps.compute_psd().plot_topomap(normalize=False, contours=0)"
   ]
  },
  {
   "cell_type": "code",
   "execution_count": null,
   "metadata": {
    "scrolled": true
   },
   "outputs": [],
   "source": [
    "ica.fit(eps)"
   ]
  },
  {
   "cell_type": "code",
   "execution_count": null,
   "metadata": {},
   "outputs": [],
   "source": [
    "%matplotlib widget\n",
    "ica.plot_sources(\n",
    "    eps,\n",
    "    #start = PLOT_WINDOW_START_s,\n",
    "    #stop = PLOT_WINDOW_START_s + PLOT_WINDOW_DUR_s,\n",
    ")"
   ]
  },
  {
   "cell_type": "code",
   "execution_count": null,
   "metadata": {
    "scrolled": false
   },
   "outputs": [],
   "source": [
    "ica.plot_properties(\n",
    "    eps,\n",
    "    picks = range(28), # select ICA components to plot topomaps for\n",
    ")\n"
   ]
  },
  {
   "cell_type": "code",
   "execution_count": null,
   "metadata": {},
   "outputs": [],
   "source": [
    "reject_criteria = dict(\n",
    "    eeg=200e-6,  # 100 µV\n",
    ")  # 200 µV"
   ]
  },
  {
   "cell_type": "code",
   "execution_count": null,
   "metadata": {},
   "outputs": [],
   "source": [
    "epochs = mne.Epochs(\n",
    "    raw_ica,\n",
    "    events,\n",
    "    tmin=-0.5,\n",
    "    tmax=0.5,\n",
    "    #reject_tmax=0,\n",
    "    reject=reject_criteria,\n",
    "    #flat=flat_criteria,\n",
    "    #reject_by_annotation=False,\n",
    "    preload=True,\n",
    ")\n",
    "epochs.plot_drop_log()"
   ]
  },
  {
   "cell_type": "code",
   "execution_count": null,
   "metadata": {},
   "outputs": [],
   "source": [
    "%matplotlib widget\n",
    "\n",
    "for ev_id in [2, 3]:\n",
    "    epochs[ev_id].average(\n",
    "        # picks = []\n",
    "    ).plot_joint()"
   ]
  },
  {
   "attachments": {},
   "cell_type": "markdown",
   "metadata": {},
   "source": [
    "# To Do\n",
    "- Notch out power supply noise and look at EEG bands"
   ]
  },
  {
   "cell_type": "code",
   "execution_count": null,
   "metadata": {},
   "outputs": [],
   "source": []
  }
 ],
 "metadata": {
  "kernelspec": {
   "display_name": "Python 3 (ipykernel)",
   "language": "python",
   "name": "python3"
  },
  "language_info": {
   "codemirror_mode": {
    "name": "ipython",
    "version": 3
   },
   "file_extension": ".py",
   "mimetype": "text/x-python",
   "name": "python",
   "nbconvert_exporter": "python",
   "pygments_lexer": "ipython3",
   "version": "3.10.12"
  }
 },
 "nbformat": 4,
 "nbformat_minor": 2
}
