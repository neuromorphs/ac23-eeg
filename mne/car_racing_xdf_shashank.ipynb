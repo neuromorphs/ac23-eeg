{
 "cells": [
  {
   "attachments": {},
   "cell_type": "markdown",
   "metadata": {},
   "source": [
    "# Working with XDF data using MNE\n",
    "The goal of this notebook is to import data saved using the LSL Lab Recorder, and run through some pre-processing steps using [MNE-Python](https://mne.tools/stable/index.html)!"
   ]
  },
  {
   "cell_type": "code",
   "execution_count": null,
   "metadata": {},
   "outputs": [],
   "source": [
    "import mne\n",
    "import matplotlib.pyplot as plt\n",
    "import pyxdf\n",
    "import numpy as np"
   ]
  },
  {
   "attachments": {},
   "cell_type": "markdown",
   "metadata": {},
   "source": [
    "## Path to dataset"
   ]
  },
  {
   "cell_type": "code",
   "execution_count": null,
   "metadata": {},
   "outputs": [],
   "source": [
    "DATA_PATH = '/Users/shashankbansal/UCSD/Research/Telluride23/EEG-data/car_racing_error/sub-karan/ses-S001/eeg/'\n",
    "!ls $DATA_PATH"
   ]
  },
  {
   "cell_type": "code",
   "execution_count": null,
   "metadata": {},
   "outputs": [],
   "source": [
    "import os\n",
    "runs = 2\n",
    "streams, headers = [], []\n",
    "for run in range(1, runs+1):\n",
    "    s, h = pyxdf.load_xdf(os.path.join(DATA_PATH, 'sub-karan_ses-S001_task-Default_run-00{}_eeg.xdf'.format(run)))\n",
    "    streams.append(s)\n",
    "    headers.append(h)\n",
    "    \n"
   ]
  },
  {
   "cell_type": "code",
   "execution_count": null,
   "metadata": {},
   "outputs": [],
   "source": [
    "# Dict structure of a stream object\n",
    "headers[0]"
   ]
  },
  {
   "cell_type": "code",
   "execution_count": null,
   "metadata": {},
   "outputs": [],
   "source": [
    "streams[0][0]"
   ]
  },
  {
   "cell_type": "code",
   "execution_count": null,
   "metadata": {},
   "outputs": [],
   "source": [
    "stream = streams[0]"
   ]
  },
  {
   "cell_type": "code",
   "execution_count": null,
   "metadata": {
    "scrolled": false
   },
   "outputs": [],
   "source": [
    "stream = streams[0]\n",
    "# First time stamps for each stream\n",
    "FIRST_TIME_STAMP = float(stream[0]['footer']['info']['first_timestamp'][0])\n",
    "print(FIRST_TIME_STAMP)\n",
    "\n",
    "for i in range(1, len(stream)):\n",
    "    START_TIME = float(stream[i]['footer']['info']['first_timestamp'][0])\n",
    "    print(START_TIME)\n",
    "    \n",
    "    # update the earliest time stamp seen if needed\n",
    "    if START_TIME < FIRST_TIME_STAMP:\n",
    "        FIRST_TIME_STAMP = float(START_TIME)\n",
    "\n",
    "print(FIRST_TIME_STAMP, '<== earliest')   "
   ]
  },
  {
   "attachments": {},
   "cell_type": "markdown",
   "metadata": {},
   "source": [
    "# Collect stream info and data"
   ]
  },
  {
   "cell_type": "code",
   "execution_count": null,
   "metadata": {},
   "outputs": [],
   "source": [
    "# Identify EEG data and impedance streams\n",
    "\n",
    "for s in stream:\n",
    "    print(s)\n",
    "    \n",
    "    s_name = s['info']['name'][0]\n",
    "    s_type = s['info']['type'][0]\n",
    "    print(f'Stream Name: {s_name}\\tType: {s_type}')\n",
    "    \n",
    "    # Get the EEG data stream for CGX\n",
    "    if ('CGX' in s_name) and (s_type == 'EEG'):\n",
    "        eeg_data = s['time_series']\n",
    "        eeg_t = s['time_stamps'] - FIRST_TIME_STAMP # offset first time stamp to t=0\n",
    "        eeg_ch_names = [ch['label'][0] for ch in s['info']['desc'][0]['channels'][0]['channel']]\n",
    "        eeg_ch_units = [ch['unit'][0] for ch in s['info']['desc'][0]['channels'][0]['channel']]\n",
    "        eeg_sfreq = s['info']['effective_srate']\n",
    "        print(f'Channels: {eeg_ch_names}')\n",
    "        print(f'Unit: {eeg_ch_units}')\n",
    "        print(f'Eff. Sampling Rate: {eeg_sfreq} Hz')\n",
    "        \n",
    "    # Get the impedance data stream for CGX\n",
    "    elif ('CGX' in s_name) and (s_type == 'Impeadance'): # typo in the stream name?\n",
    "        z_data = s['time_series']\n",
    "        z_t = s['time_stamps'] - FIRST_TIME_STAMP\n",
    "        z_ch_names = [ch['label'][0] for ch in s['info']['desc'][0]['channels'][0]['channel']]\n",
    "        z_ch_units = [ch['unit'][0] for ch in s['info']['desc'][0]['channels'][0]['channel']]\n",
    "        z_sfreq = s['info']['effective_srate']\n",
    "        print(f'Channels: {z_ch_names}')\n",
    "        print(f'Unit: {z_ch_units}')\n",
    "        print(f'Eff. Sampling Rate: {z_sfreq} Hz')\n",
    "        \n",
    "    # Keyboard events\n",
    "    elif (s_type == 'Markers'):\n",
    "        events = s['time_series']\n",
    "        events_t = s['time_stamps'] - FIRST_TIME_STAMP"
   ]
  },
  {
   "cell_type": "code",
   "execution_count": null,
   "metadata": {},
   "outputs": [],
   "source": [
    "print(eeg_data.shape)\n",
    "eeg_data"
   ]
  },
  {
   "cell_type": "code",
   "execution_count": null,
   "metadata": {},
   "outputs": [],
   "source": [
    "print(sum(eeg_data[:, -1])) # no events in trigger channel\n",
    "eeg_data[:, -1] # trigger channel"
   ]
  },
  {
   "cell_type": "code",
   "execution_count": null,
   "metadata": {},
   "outputs": [],
   "source": [
    "events"
   ]
  },
  {
   "cell_type": "code",
   "execution_count": null,
   "metadata": {},
   "outputs": [],
   "source": [
    "# Plot EEG data\n",
    "fig, ax = plt.subplots(2, 1)\n",
    "\n",
    "ax[0].plot(eeg_t, eeg_data)\n",
    "ax[0].set_ylabel('uV')\n",
    "ax[0].set_xlabel('Time Stamps [s]')\n",
    "ax[0].set_title('EEG data')\n",
    "\n",
    "# Plot event markers\n",
    "for i in range(len(events)):\n",
    "    event_t = events_t[i]\n",
    "    event_v = events[i][0]\n",
    "    event_type = events[i][1]\n",
    "    \n",
    "    if event_type == 'left':\n",
    "        ax[0].axvline(x = event_t, c='pink')\n",
    "    elif event_type == 'right':\n",
    "        ax[0].axvline(x = event_t, c='c')\n",
    "    elif event_type == 'enter':\n",
    "        ax[0].axvline(x = event_t, c='r')\n",
    "    \n",
    "ax[1].plot(z_t, z_data)\n",
    "ax[1].set_ylabel('kOhms')\n",
    "ax[1].set_title('Impedance')\n",
    "\n",
    "plt.show()"
   ]
  },
  {
   "attachments": {},
   "cell_type": "markdown",
   "metadata": {},
   "source": [
    "# Prepare to import data to mne"
   ]
  },
  {
   "attachments": {},
   "cell_type": "markdown",
   "metadata": {},
   "source": [
    "## Rescale EEG data to V\n",
    "(only run this once!)"
   ]
  },
  {
   "cell_type": "code",
   "execution_count": null,
   "metadata": {},
   "outputs": [],
   "source": [
    "print(eeg_data[:, 0])\n",
    "\n",
    "# Rescale units of eeg_data to V\n",
    "if 'microvolts' in eeg_ch_units:\n",
    "    eeg_data /= 1e6\n",
    "    \n",
    "print(eeg_data[:, 0])"
   ]
  },
  {
   "cell_type": "code",
   "execution_count": null,
   "metadata": {},
   "outputs": [],
   "source": [
    "eeg_data.T.shape # mne expects (n_channels, n_times)"
   ]
  },
  {
   "cell_type": "code",
   "execution_count": null,
   "metadata": {
    "scrolled": false
   },
   "outputs": [],
   "source": [
    "eeg_ch_names"
   ]
  },
  {
   "attachments": {},
   "cell_type": "markdown",
   "metadata": {},
   "source": [
    "(Manually) Identify each channel's type for importing data to mne:"
   ]
  },
  {
   "cell_type": "code",
   "execution_count": null,
   "metadata": {},
   "outputs": [],
   "source": [
    "ch_types = []\n",
    "ch_types.extend(['eeg']*29) # first 29 channels are EEG\n",
    "ch_types.extend(['misc']*(1+2+3+1)) # A2 (assuming unused, ExG x2, ACC x3, Packet Counter)\n",
    "ch_types.extend(['stim']) # Trigger channel (probably unused)"
   ]
  },
  {
   "attachments": {},
   "cell_type": "markdown",
   "metadata": {},
   "source": [
    "Make an info object for importing data to mne:\n",
    "\n",
    "https://mne.tools/stable/generated/mne.create_info.html"
   ]
  },
  {
   "cell_type": "code",
   "execution_count": null,
   "metadata": {},
   "outputs": [],
   "source": [
    "info = mne.create_info(\n",
    "    ch_names = eeg_ch_names,\n",
    "    sfreq = eeg_sfreq,\n",
    "    ch_types = ch_types,\n",
    ")"
   ]
  },
  {
   "attachments": {},
   "cell_type": "markdown",
   "metadata": {},
   "source": [
    "Import the data as a raw array:\n",
    "\n",
    "https://mne.tools/stable/generated/mne.io.RawArray.html"
   ]
  },
  {
   "cell_type": "code",
   "execution_count": null,
   "metadata": {},
   "outputs": [],
   "source": [
    "raw = mne.io.RawArray(\n",
    "    data = eeg_data.T, # mne expects (n_channels, n_times)\n",
    "    info = info,\n",
    ")\n",
    "\n",
    "raw"
   ]
  },
  {
   "attachments": {},
   "cell_type": "markdown",
   "metadata": {},
   "source": [
    "## Apply the 10-20 channel montage"
   ]
  },
  {
   "cell_type": "code",
   "execution_count": null,
   "metadata": {},
   "outputs": [],
   "source": [
    "raw.info.set_montage('standard_1020', match_case=False)\n",
    "\n",
    "# Plot the montage\n",
    "mne.viz.plot_montage(raw.info.get_montage())"
   ]
  },
  {
   "attachments": {},
   "cell_type": "markdown",
   "metadata": {},
   "source": [
    "# Add annotations from marker stream"
   ]
  },
  {
   "cell_type": "code",
   "execution_count": null,
   "metadata": {},
   "outputs": [],
   "source": [
    "ev_id = [ev[1] for ev in events]\n",
    "ev_id"
   ]
  },
  {
   "attachments": {},
   "cell_type": "markdown",
   "metadata": {},
   "source": [
    "https://mne.tools/stable/auto_tutorials/raw/30_annotate_raw.html"
   ]
  },
  {
   "cell_type": "code",
   "execution_count": null,
   "metadata": {},
   "outputs": [],
   "source": [
    "lsl_annot = mne.Annotations(\n",
    "    onset = events_t,\n",
    "    duration = np.zeros_like(events_t), # setting durations to 0 to just label event onsets\n",
    "    description = ev_id,\n",
    ")\n",
    "\n",
    "raw.set_annotations(lsl_annot)"
   ]
  },
  {
   "cell_type": "code",
   "execution_count": null,
   "metadata": {},
   "outputs": [],
   "source": [
    "%matplotlib widget\n",
    "\n",
    "# could go back to \n",
    "# %matplotlib inline \n",
    "# if the plot doubling becomes annoying\n",
    "\n",
    "# using widget to make the plot interactive (for scrolling, bad channel selection, etc)\n",
    "\n",
    "# scaling can help with visibility, especially if we have some bad channels / artifacts\n",
    "scalings = {\n",
    "    'eeg': 10e-3, \n",
    "    'eog': 500e-6,\n",
    "    'misc': 100\n",
    "} \n",
    "\n",
    "# In case you want to manually flag some channels as bad (could also click in the plot)\n",
    "bad_chans = []\n",
    "raw.info['bads'] = bad_chans\n",
    "\n",
    "PLOT_WINDOW_START_s = 0\n",
    "PLOT_WINDOW_DUR_s = 20\n",
    "\n",
    "raw.plot(\n",
    "    scalings = scalings,\n",
    "    #butterfly = True,\n",
    "    start = PLOT_WINDOW_START_s,\n",
    "    duration = PLOT_WINDOW_DUR_s,\n",
    ")"
   ]
  },
  {
   "attachments": {},
   "cell_type": "markdown",
   "metadata": {},
   "source": [
    "# Manually reject bad data segments"
   ]
  },
  {
   "cell_type": "code",
   "execution_count": null,
   "metadata": {},
   "outputs": [],
   "source": [
    "# bad_annot = mne.Annotations(\n",
    "#     onset = [7, 11, ],\n",
    "#     duration = [3, 19, ], # setting durations to 0 to just label event onsets\n",
    "#     description = \"bad\",\n",
    "# )\n",
    "\n",
    "#raw.set_annotations(raw.annotations + bad_annot)\n",
    "raw.set_annotations(lsl_annot)"
   ]
  },
  {
   "cell_type": "code",
   "execution_count": null,
   "metadata": {},
   "outputs": [],
   "source": [
    "# Remove the first 20 seconds of data\n",
    "raw.crop(tmin = 20)"
   ]
  },
  {
   "cell_type": "code",
   "execution_count": null,
   "metadata": {},
   "outputs": [],
   "source": [
    "raw.annotations"
   ]
  },
  {
   "cell_type": "code",
   "execution_count": null,
   "metadata": {},
   "outputs": [],
   "source": [
    "# Remove any erroneous annotations (if needed)\n",
    "# raw.annotations[5]\n",
    "# raw.annotations.delete(5)\n",
    "\n",
    "raw.annotations"
   ]
  },
  {
   "cell_type": "code",
   "execution_count": null,
   "metadata": {},
   "outputs": [],
   "source": [
    "# Plot again\n",
    "raw.plot(\n",
    "    scalings = scalings,\n",
    "    butterfly = True,\n",
    "    start = PLOT_WINDOW_START_s,\n",
    "    duration = PLOT_WINDOW_DUR_s,\n",
    ")"
   ]
  },
  {
   "attachments": {},
   "cell_type": "markdown",
   "metadata": {},
   "source": [
    "# Power Spectra\n",
    "(before filtering)"
   ]
  },
  {
   "cell_type": "code",
   "execution_count": null,
   "metadata": {
    "scrolled": false
   },
   "outputs": [],
   "source": [
    "raw.compute_psd(n_fft = 1024).plot(average = False)"
   ]
  },
  {
   "attachments": {},
   "cell_type": "markdown",
   "metadata": {},
   "source": [
    "Let's bandpass filter the data:"
   ]
  },
  {
   "cell_type": "code",
   "execution_count": null,
   "metadata": {},
   "outputs": [],
   "source": [
    "raw_filt = raw.copy().filter( # make a copy of the array to avoid modifying in place\n",
    "    l_freq = 0.1, # lower cut-off, in Hz\n",
    "    h_freq = 100, # upper cut-off, in Hz\n",
    ")\n",
    "\n",
    "# And look at the PSD again\n",
    "raw_filt.compute_psd(n_fft = 1024).plot(average = False)\n",
    "\n",
    "n_fft = 1024\n",
    "\n",
    "# picks = [''] # a list of channels that you want to focus on, if any\n",
    "fig = raw_filt.compute_psd(\n",
    "    # picks= picks,\n",
    "    fmin = 0, # lower limit to plot\n",
    "    fmax = 100, # upper limit to plot\n",
    "    # tmin = 0, # if only using a subset of the data for PSD computation\n",
    "    # tmax = 10,\n",
    "    n_fft = n_fft,\n",
    ").plot()\n",
    "\n",
    "# Some reformatting if needed\n",
    "# fig.get_axes()[0].set_ylim(YLIM_MIN, YLIM_MAX)\n",
    "fig.get_axes()[0].set_title('Zooming in on pass-band')\n",
    "plt.show()"
   ]
  },
  {
   "attachments": {},
   "cell_type": "markdown",
   "metadata": {},
   "source": [
    "# Identify any bad channels"
   ]
  },
  {
   "cell_type": "code",
   "execution_count": null,
   "metadata": {
    "scrolled": false
   },
   "outputs": [],
   "source": [
    "# ## Update scalings if needed\n",
    "# scalings['eeg'] = 200e-6 \n",
    "# # scalings['eog'] = 500e-6\n",
    "# # scalings['misc'] = 100\n",
    "\n",
    "# ## How did you identify bad channels?\n",
    "# # raw_filt.info.bads = ['F7', 'FC5'] #'Oz', 'PO8', 'Fp2', 'F7', 'P3'] # ideally could label bad segments instead of dropping channels\n",
    "\n",
    "# # Drop bad channels from visual examination before running ICA\n",
    "# raw_filt_drop_bad = raw_filt.copy().drop_channels(raw_filt.info.bads)\n",
    "\n",
    "# raw_filt_drop_bad.plot(\n",
    "#     scalings = scalings,\n",
    "#     butterfly = True,\n",
    "#     start = PLOT_WINDOW_START_s,\n",
    "#     duration = PLOT_WINDOW_DUR_s,\n",
    "# )"
   ]
  },
  {
   "attachments": {},
   "cell_type": "markdown",
   "metadata": {},
   "source": [
    "## Re-reference to average\n",
    "https://mne.tools/stable/generated/mne.set_eeg_reference.html"
   ]
  },
  {
   "cell_type": "code",
   "execution_count": null,
   "metadata": {
    "tags": []
   },
   "outputs": [],
   "source": [
    "# raw_filt_drop_bad_rref, _ = mne.set_eeg_reference(\n",
    "#     raw_filt_drop_bad, \n",
    "#     ref_channels='average',\n",
    "# )\n",
    "\n",
    "# raw_filt_drop_bad_rref.plot(\n",
    "#     scalings=scalings,\n",
    "#     butterfly=True,\n",
    "#     start = PLOT_WINDOW_START_s,\n",
    "#     duration = PLOT_WINDOW_DUR_s,\n",
    "# )"
   ]
  },
  {
   "attachments": {},
   "cell_type": "markdown",
   "metadata": {},
   "source": [
    "# Run ICA to remove artifacts\n",
    "https://mne.tools/stable/auto_tutorials/preprocessing/40_artifact_correction_ica.html#sphx-glr-auto-tutorials-preprocessing-40-artifact-correction-ica-py"
   ]
  },
  {
   "cell_type": "code",
   "execution_count": null,
   "metadata": {},
   "outputs": [],
   "source": [
    "from mne.preprocessing import ICA\n",
    "\n",
    "# Make an ICA object\n",
    "ica = ICA(\n",
    "    #n_components = 29, # number of prinicipal components passed to ICA\n",
    "    random_state = 23, # seed for numpy RNG\n",
    "    #method = 'infomax', # can use 'fastica' or 'picard' too\n",
    ")\n",
    "\n",
    "# Run ICA\n",
    "ica.fit(raw_filt)"
   ]
  },
  {
   "attachments": {},
   "cell_type": "markdown",
   "metadata": {},
   "source": [
    "## Plot ICA components over time"
   ]
  },
  {
   "cell_type": "code",
   "execution_count": null,
   "metadata": {},
   "outputs": [],
   "source": [
    "%matplotlib widget\n",
    "ica.plot_sources(\n",
    "    raw_filt,\n",
    "    start = PLOT_WINDOW_START_s,\n",
    "    stop = PLOT_WINDOW_START_s + PLOT_WINDOW_DUR_s,\n",
    ")"
   ]
  },
  {
   "attachments": {},
   "cell_type": "markdown",
   "metadata": {},
   "source": [
    "## Topomaps for each ICA component"
   ]
  },
  {
   "cell_type": "code",
   "execution_count": null,
   "metadata": {
    "scrolled": false
   },
   "outputs": [],
   "source": [
    "suspect_ica_components = [\n",
    "    0, # eye blinks\n",
    "    9 # 10, # 17, # very noisy\n",
    "]\n",
    "\n",
    "ica.plot_properties(\n",
    "    raw_filt,\n",
    "    picks = suspect_ica_components, # select ICA components to plot topomaps for\n",
    ")\n",
    "\n",
    "plt.show()"
   ]
  },
  {
   "attachments": {},
   "cell_type": "markdown",
   "metadata": {},
   "source": [
    "## Remove suspect ICA components"
   ]
  },
  {
   "cell_type": "code",
   "execution_count": null,
   "metadata": {},
   "outputs": [],
   "source": [
    "PLOT_WINDOW_START_s = 15\n",
    "PLOT_WINDOW_DUR_s = 30\n",
    "\n",
    "ica.plot_overlay(\n",
    "    raw_filt,\n",
    "    exclude = suspect_ica_components,\n",
    "    start = int(raw_filt.info['sfreq']) * PLOT_WINDOW_START_s, # this is index, not seconds\n",
    "    stop = int(raw_filt.info['sfreq']) * (PLOT_WINDOW_START_s + PLOT_WINDOW_DUR_s),\n",
    ")\n"
   ]
  },
  {
   "attachments": {},
   "cell_type": "markdown",
   "metadata": {},
   "source": [
    "## Project back to channel space"
   ]
  },
  {
   "cell_type": "code",
   "execution_count": null,
   "metadata": {
    "scrolled": true
   },
   "outputs": [],
   "source": [
    "raw_ica = ica.apply(\n",
    "    raw_filt, \n",
    "    exclude=suspect_ica_components, # ICA components to drop\n",
    ")"
   ]
  },
  {
   "cell_type": "code",
   "execution_count": null,
   "metadata": {},
   "outputs": [],
   "source": [
    "%matplotlib widget\n",
    "raw_ica.plot(\n",
    "    scalings = scalings,\n",
    "    butterfly = True,\n",
    "    duration = PLOT_WINDOW_DUR_s,\n",
    "    start = PLOT_WINDOW_START_s,\n",
    ")"
   ]
  },
  {
   "attachments": {},
   "cell_type": "markdown",
   "metadata": {},
   "source": [
    "# Lets find events from annotations"
   ]
  },
  {
   "cell_type": "code",
   "execution_count": null,
   "metadata": {},
   "outputs": [],
   "source": [
    "events, event_id = mne.events_from_annotations(raw_ica)"
   ]
  },
  {
   "cell_type": "code",
   "execution_count": null,
   "metadata": {
    "scrolled": true
   },
   "outputs": [],
   "source": [
    "events, event_id"
   ]
  },
  {
   "cell_type": "code",
   "execution_count": null,
   "metadata": {},
   "outputs": [],
   "source": [
    "event_id"
   ]
  },
  {
   "cell_type": "code",
   "execution_count": null,
   "metadata": {
    "scrolled": false
   },
   "outputs": [],
   "source": [
    "eps = mne.Epochs(\n",
    "    #raw_filt,\n",
    "    raw_ica,\n",
    "    events = events, \n",
    "    event_id = event_id, \n",
    "    tmin=-0.5,\n",
    "    tmax=1.5,\n",
    "    baseline=None,\n",
    ")\n",
    "\n",
    "%matplotlib inline\n",
    "\n",
    "for ev_id in event_id:\n",
    "    eps[ev_id].plot_image(\n",
    "        #picks = [],\n",
    "        combine='mean'\n",
    "    )"
   ]
  },
  {
   "cell_type": "code",
   "execution_count": null,
   "metadata": {},
   "outputs": [],
   "source": [
    "%matplotlib widget\n",
    "\n",
    "for ev_id in event_id:\n",
    "    eps[ev_id].average(\n",
    "        # picks = []\n",
    "    ).plot_joint()"
   ]
  },
  {
   "attachments": {},
   "cell_type": "markdown",
   "metadata": {},
   "source": [
    "# Time-frequency analysis: power and inter-trial coherence"
   ]
  },
  {
   "cell_type": "code",
   "execution_count": null,
   "metadata": {},
   "outputs": [],
   "source": [
    "from mne.time_frequency import tfr_morlet\n",
    "\n",
    "eps = mne.Epochs(\n",
    "    raw_filt,\n",
    "    # raw_ica,\n",
    "    events = events, \n",
    "    event_id = event_id, \n",
    "    tmin=-0.5,\n",
    "    tmax=1.5,\n",
    "    baseline=None,\n",
    ")\n",
    "\n",
    "freqs = np.logspace(*np.log10([6, 70]), num=16)\n",
    "n_cycles = freqs / 2.0  # different number of cycle per frequency\n",
    "\n",
    "power, itc = tfr_morlet(\n",
    "    eps,\n",
    "    freqs=freqs,\n",
    "    n_cycles=n_cycles,\n",
    "    use_fft=True,\n",
    "    return_itc=True,\n",
    "    decim=3,\n",
    "    n_jobs=None,\n",
    ")"
   ]
  },
  {
   "cell_type": "code",
   "execution_count": null,
   "metadata": {},
   "outputs": [],
   "source": [
    "print(freqs)"
   ]
  },
  {
   "cell_type": "code",
   "execution_count": null,
   "metadata": {},
   "outputs": [],
   "source": [
    "power.ch_names"
   ]
  },
  {
   "cell_type": "code",
   "execution_count": null,
   "metadata": {},
   "outputs": [],
   "source": [
    "# ### THIS IS Crashing the kernel for some reason\n",
    "# import matplotlib.pyplot as plt\n",
    "\n",
    "# # Define the indices of the channels to plot\n",
    "# # channels = [1, 2, 3, 4, 5, 6, 7, 8, 9]\n",
    "# channels = list(range(1, 5))\n",
    "# # Create a figure with 9 subplots\n",
    "# # fig, axes = plt.subplots(2, 2, figsize=(20, 10))\n",
    "\n",
    "# # Loop over the channels\n",
    "# for i, channel in enumerate(channels):\n",
    "#     # ax = axes.flatten()[i]\n",
    "#     power.plot([channel], baseline=(-0.5, 0), mode='logratio', title=power.ch_names[channel])\n",
    "\n",
    "# # plt.tight_layout()\n",
    "# # plt.show()"
   ]
  },
  {
   "cell_type": "code",
   "execution_count": null,
   "metadata": {},
   "outputs": [],
   "source": [
    "channels = ['PO7', 'O1', 'Oz', 'O2', 'P4', 'T8']\n",
    "\n",
    "for channel in channels:\n",
    "    power.plot([power.ch_names.index(channel)], baseline=(-0.5, 0), mode='logratio', title=power.ch_names[power.ch_names.index(channel)])"
   ]
  },
  {
   "cell_type": "code",
   "execution_count": null,
   "metadata": {},
   "outputs": [],
   "source": [
    "power.plot_topo(baseline=(-0.5, 0), mode=\"logratio\", title=\"Average power\")\n",
    "\n",
    "# fig, axes = plt.subplots(1, 2, figsize=(7, 4), constrained_layout=True)\n",
    "\n",
    "power.plot_joint(\n",
    "    baseline=(-0.5, 0), mode=\"mean\", tmin=-0.5, tmax=2, timefreqs=[(0.25, 11), (0.5, 13), (0.75, 18), (1, 36)]\n",
    ")"
   ]
  },
  {
   "cell_type": "code",
   "execution_count": null,
   "metadata": {},
   "outputs": [],
   "source": [
    "eps.compute_psd().plot_topomap(normalize=False, contours=0)"
   ]
  }
 ],
 "metadata": {
  "kernelspec": {
   "display_name": "Python 3 (ipykernel)",
   "language": "python",
   "name": "python3"
  },
  "language_info": {
   "codemirror_mode": {
    "name": "ipython",
    "version": 3
   },
   "file_extension": ".py",
   "mimetype": "text/x-python",
   "name": "python",
   "nbconvert_exporter": "python",
   "pygments_lexer": "ipython3",
   "version": "3.10.12"
  }
 },
 "nbformat": 4,
 "nbformat_minor": 2
}
