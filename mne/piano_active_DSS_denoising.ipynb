{
 "cells": [
  {
   "cell_type": "code",
   "execution_count": 1,
   "id": "d91619d9",
   "metadata": {},
   "outputs": [],
   "source": [
    "import mne\n",
    "import matplotlib.pyplot as plt\n",
    "import pyxdf\n",
    "import numpy as np\n",
    "import time\n",
    "import librosa # optional, only needed to convert MIDI keys to notes"
   ]
  },
  {
   "cell_type": "code",
   "execution_count": 2,
   "id": "a2d2887a",
   "metadata": {},
   "outputs": [],
   "source": [
    "# Set your datapath -- now this is for Claire's machine\n",
    "\n",
    "DATA_PATH = \"/Users/clairepelofi/Library/CloudStorage/GoogleDrive-cp2830@nyu.edu/.shortcut-targets-by-id/1vf8-kB4CvShQ8yAy2DIw43NnEtVLNM3z/Telluride 2023 Shared/Topic Areas/AC23/DATA/active_piano/sub-matthias/\"\n",
    "DATA_PATH+= \"ses-S001/diverse/sub-matthias_ses-S001_task-Default_run-001_diverse.xdf\""
   ]
  },
  {
   "cell_type": "code",
   "execution_count": 3,
   "id": "bafad00e",
   "metadata": {},
   "outputs": [
    {
     "name": "stdout",
     "output_type": "stream",
     "text": [
      "Loaded in 61.939467906951904 s\n"
     ]
    }
   ],
   "source": [
    "# Read in the LSL streams from the XDF file\n",
    "START_TIME = time.time()\n",
    "streams, header = pyxdf.load_xdf(DATA_PATH) # this could take ~80 seconds..\n",
    "print(f'Loaded in {time.time() - START_TIME} s')"
   ]
  },
  {
   "cell_type": "code",
   "execution_count": 16,
   "id": "b7601345",
   "metadata": {},
   "outputs": [
    {
     "name": "stdout",
     "output_type": "stream",
     "text": [
      "627325.2739816041 \t ['CGX Quick-32r Q32r-0524 Impedance']\n",
      "627325.2739802415 \t ['CGX Quick-32r Q32r-0524']\n",
      "627325.3522152758 \t ['glove_data']\n",
      "627326.3012935789 \t ['ev_ts']\n",
      "627360.4304148303 \t ['MIDIStream']\n",
      "627325.3077660875 \t ['MyAudioStream']\n",
      "627325.2739802415 \t <== earliest\n"
     ]
    }
   ],
   "source": [
    "# streams contain the data for all streams\n",
    "# stream 0: impedance of EEG channels\n",
    "# stream 1: data of EEG channels\n",
    "# stream 2: glove data\n",
    "# stream 3: ev_st (??) --> video?\n",
    "# stream 4: MIDI stream\n",
    "# stream 5: audio stream\n",
    "\n",
    "\n",
    "# Get the first time stamp across all streams (read from time_stamps)\n",
    "first_timestamps = []\n",
    "\n",
    "for s in streams: # loop through remaining streams\n",
    "    s_name = s['info']['name']\n",
    "    t0 = s['time_stamps'][0]\n",
    "    print(t0, '\\t', s_name)\n",
    "    \n",
    "    first_timestamps.append(t0)\n",
    "    \n",
    "first_timestamp = min(first_timestamps)\n",
    "print(first_timestamp, '\\t', '<== earliest')   "
   ]
  },
  {
   "cell_type": "code",
   "execution_count": 17,
   "id": "b5dc130c",
   "metadata": {},
   "outputs": [
    {
     "name": "stdout",
     "output_type": "stream",
     "text": [
      "Stream Name: CGX Quick-32r Q32r-0524 Impedance\tType: Impeadance\n",
      "--------------------------------------------------\n",
      "Channels: ['AF7-Z', 'Fpz-Z', 'F7-Z', 'Fz-Z', 'T7-Z', 'FC6-Z', 'Fp1-Z', 'F4-Z', 'C4-Z', 'Oz-Z', 'CP6-Z', 'Cz-Z', 'PO8-Z', 'CP5-Z', 'O2-Z', 'O1-Z', 'P3-Z', 'P4-Z', 'P7-Z', 'P8-Z', 'Pz-Z', 'PO7-Z', 'T8-Z', 'C3-Z', 'Fp2-Z', 'F3-Z', 'F8-Z', 'FC5-Z', 'AF8-Z', 'A2-Z', 'ExG 1-Z', 'ExG 2-Z', 'ACC32-Z', 'ACC33-Z', 'ACC34-Z', 'Packet Counter-Z', 'TRIGGER-Z']\n",
      "Unit: ['kohms', 'kohms', 'kohms', 'kohms', 'kohms', 'kohms', 'kohms', 'kohms', 'kohms', 'kohms', 'kohms', 'kohms', 'kohms', 'kohms', 'kohms', 'kohms', 'kohms', 'kohms', 'kohms', 'kohms', 'kohms', 'kohms', 'kohms', 'kohms', 'kohms', 'kohms', 'kohms', 'kohms', 'kohms', 'kohms', 'kohms', 'kohms', 'kohms', 'kohms', 'kohms', 'kohms', 'kohms']\n",
      "Eff. Sampling Rate: 499.99535467080483 Hz\n",
      "==================================================\n",
      "Stream Name: CGX Quick-32r Q32r-0524\tType: EEG\n",
      "--------------------------------------------------\n",
      "Channels: ['AF7', 'Fpz', 'F7', 'Fz', 'T7', 'FC6', 'Fp1', 'F4', 'C4', 'Oz', 'CP6', 'Cz', 'PO8', 'CP5', 'O2', 'O1', 'P3', 'P4', 'P7', 'P8', 'Pz', 'PO7', 'T8', 'C3', 'Fp2', 'F3', 'F8', 'FC5', 'AF8', 'A2', 'ExG 1', 'ExG 2', 'ACC32', 'ACC33', 'ACC34', 'Packet Counter', 'TRIGGER']\n",
      "Unit: ['microvolts', 'microvolts', 'microvolts', 'microvolts', 'microvolts', 'microvolts', 'microvolts', 'microvolts', 'microvolts', 'microvolts', 'microvolts', 'microvolts', 'microvolts', 'microvolts', 'microvolts', 'microvolts', 'microvolts', 'microvolts', 'microvolts', 'microvolts', 'microvolts', 'microvolts', 'microvolts', 'microvolts', 'microvolts', 'microvolts', 'microvolts', 'microvolts', 'microvolts', 'microvolts', 'microvolts', 'microvolts', 'microvolts', 'microvolts', 'microvolts', 'microvolts', 'microvolts']\n",
      "Eff. Sampling Rate: 499.99535375211883 Hz\n",
      "==================================================\n",
      "Stream Name: glove_data\tType: imu_data\n",
      "--------------------------------------------------\n",
      "shape: (81705, 6)\n",
      "==================================================\n",
      "Stream Name: ev_ts\tType: timestamp\n",
      "--------------------------------------------------\n",
      "shape: (817, 1)\n",
      "==================================================\n",
      "Stream Name: MIDIStream\tType: MIDI\n",
      "--------------------------------------------------\n",
      "shape: (3298, 3)\n",
      "==================================================\n",
      "Stream Name: MyAudioStream\tType: Audio\n",
      "--------------------------------------------------\n",
      "shape: (35812728, 1)\n",
      "==================================================\n"
     ]
    }
   ],
   "source": [
    "lsl_streams = {} # for collecting time stamps and data\n",
    "\n",
    "# Identify EEG data and impedance streams separately to collect metadata (channel names, etc)\n",
    "# Remaining streams are collected in one dict\n",
    "\n",
    "for s in streams:\n",
    "    s_name = s['info']['name'][0]\n",
    "    s_type = s['info']['type'][0]\n",
    "    print(f'Stream Name: {s_name}\\tType: {s_type}')\n",
    "    print('-'*50)\n",
    "    \n",
    "    # Get the EEG data stream for CGX\n",
    "    if ('CGX' in s_name) and (s_type == 'EEG'):\n",
    "        eeg_data = s['time_series']\n",
    "        eeg_t = s['time_stamps'] - first_timestamp # offset first time stamp to t=0\n",
    "        eeg_ch_names = [ch['label'][0] for ch in s['info']['desc'][0]['channels'][0]['channel']]\n",
    "        eeg_ch_units = [ch['unit'][0] for ch in s['info']['desc'][0]['channels'][0]['channel']]\n",
    "        eeg_sfreq = s['info']['effective_srate']\n",
    "        print(f'Channels: {eeg_ch_names}')\n",
    "        print(f'Unit: {eeg_ch_units}')\n",
    "        print(f'Eff. Sampling Rate: {eeg_sfreq} Hz')\n",
    "        \n",
    "    # Get the impedance data stream for CGX\n",
    "    elif ('CGX' in s_name) and (s_type == 'Impeadance'): # typo in the stream name?\n",
    "        z_data = s['time_series']\n",
    "        z_t = s['time_stamps'] - first_timestamp\n",
    "        z_ch_names = [ch['label'][0] for ch in s['info']['desc'][0]['channels'][0]['channel']]\n",
    "        z_ch_units = [ch['unit'][0] for ch in s['info']['desc'][0]['channels'][0]['channel']]\n",
    "        z_sfreq = s['info']['effective_srate']\n",
    "        print(f'Channels: {z_ch_names}')\n",
    "        print(f'Unit: {z_ch_units}')\n",
    "        print(f'Eff. Sampling Rate: {z_sfreq} Hz')\n",
    "        \n",
    "    # Misc streams\n",
    "    else:\n",
    "        lsl_streams[s_type] = {}\n",
    "        lsl_streams[s_type]['data'] = s['time_series']\n",
    "        lsl_streams[s_type]['time'] = s['time_stamps'] - first_timestamp\n",
    "        print('shape:', lsl_streams[s_type]['data'].shape)\n",
    "        \n",
    "    print('='*50)"
   ]
  },
  {
   "cell_type": "code",
   "execution_count": 23,
   "id": "87a2c5af",
   "metadata": {},
   "outputs": [
    {
     "ename": "KeyError",
     "evalue": "0",
     "output_type": "error",
     "traceback": [
      "\u001b[0;31m---------------------------------------------------------------------------\u001b[0m",
      "\u001b[0;31mKeyError\u001b[0m                                  Traceback (most recent call last)",
      "Input \u001b[0;32mIn [23]\u001b[0m, in \u001b[0;36m<cell line: 1>\u001b[0;34m()\u001b[0m\n\u001b[0;32m----> 1\u001b[0m \u001b[43mlsl_streams\u001b[49m\u001b[43m[\u001b[49m\u001b[38;5;241;43m0\u001b[39;49m\u001b[43m]\u001b[49m\n",
      "\u001b[0;31mKeyError\u001b[0m: 0"
     ]
    }
   ],
   "source": [
    "lsl_streams[0]"
   ]
  }
 ],
 "metadata": {
  "kernelspec": {
   "display_name": "Python [conda env:eelbrain]",
   "language": "python",
   "name": "conda-env-eelbrain-py"
  },
  "language_info": {
   "codemirror_mode": {
    "name": "ipython",
    "version": 3
   },
   "file_extension": ".py",
   "mimetype": "text/x-python",
   "name": "python",
   "nbconvert_exporter": "python",
   "pygments_lexer": "ipython3",
   "version": "3.9.13"
  }
 },
 "nbformat": 4,
 "nbformat_minor": 5
}
